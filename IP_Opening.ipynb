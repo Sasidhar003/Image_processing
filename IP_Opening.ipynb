{
  "nbformat": 4,
  "nbformat_minor": 0,
  "metadata": {
    "colab": {
      "provenance": [],
      "authorship_tag": "ABX9TyODUda0Cmh/ml4ol8pIYGWn",
      "include_colab_link": true
    },
    "kernelspec": {
      "name": "python3",
      "display_name": "Python 3"
    },
    "language_info": {
      "name": "python"
    }
  },
  "cells": [
    {
      "cell_type": "markdown",
      "metadata": {
        "id": "view-in-github",
        "colab_type": "text"
      },
      "source": [
        "<a href=\"https://colab.research.google.com/github/Sasidhar003/Python/blob/main/IP_Opening.ipynb\" target=\"_parent\"><img src=\"https://colab.research.google.com/assets/colab-badge.svg\" alt=\"Open In Colab\"/></a>"
      ]
    },
    {
      "cell_type": "code",
      "execution_count": 11,
      "metadata": {
        "colab": {
          "base_uri": "https://localhost:8080/",
          "height": 177
        },
        "id": "QZDWiOSYur19",
        "outputId": "51a33108-1f4b-49b3-c663-709c56127fc5"
      },
      "outputs": [
        {
          "output_type": "execute_result",
          "data": {
            "text/plain": [
              "array([[0, 0, 0, ..., 0, 0, 0],\n",
              "       [0, 0, 0, ..., 0, 0, 0],\n",
              "       [0, 0, 0, ..., 0, 0, 0],\n",
              "       ...,\n",
              "       [0, 0, 0, ..., 0, 0, 0],\n",
              "       [0, 0, 0, ..., 0, 0, 0],\n",
              "       [0, 0, 0, ..., 0, 0, 0]], dtype=uint8)"
            ],
            "text/html": [
              "<style>\n",
              "      .ndarray_repr .ndarray_raw_data {\n",
              "        display: none;\n",
              "      }\n",
              "      .ndarray_repr.show_array .ndarray_raw_data {\n",
              "        display: block;\n",
              "      }\n",
              "      .ndarray_repr.show_array .ndarray_image_preview {\n",
              "        display: none;\n",
              "      }\n",
              "      </style>\n",
              "      <div id=\"id-2189c4a4-a484-4430-88fd-fdaf9c09968a\" class=\"ndarray_repr\"><pre>ndarray (137, 276) <button style=\"padding: 0 2px;\">show data</button></pre><img src=\"data:image/png;base64,iVBORw0KGgoAAAANSUhEUgAAARQAAACJCAAAAADIlJiMAAAAPElEQVR4nO3BgQAAAADDoPlTX+AIVQEAAAAAAAAAAAAAAAAAAAAAAAAAAAAAAAAAAAAAAAAAAAAAAADXAJQ9AAFfgjkTAAAAAElFTkSuQmCC\" class=\"ndarray_image_preview\" /><pre class=\"ndarray_raw_data\">array([[0, 0, 0, ..., 0, 0, 0],\n",
              "       [0, 0, 0, ..., 0, 0, 0],\n",
              "       [0, 0, 0, ..., 0, 0, 0],\n",
              "       ...,\n",
              "       [0, 0, 0, ..., 0, 0, 0],\n",
              "       [0, 0, 0, ..., 0, 0, 0],\n",
              "       [0, 0, 0, ..., 0, 0, 0]], dtype=uint8)</pre></div><script>\n",
              "      (() => {\n",
              "      const titles = ['show data', 'hide data'];\n",
              "      let index = 0\n",
              "      document.querySelector('#id-2189c4a4-a484-4430-88fd-fdaf9c09968a button').onclick = (e) => {\n",
              "        document.querySelector('#id-2189c4a4-a484-4430-88fd-fdaf9c09968a').classList.toggle('show_array');\n",
              "        index = (++index) % 2;\n",
              "        document.querySelector('#id-2189c4a4-a484-4430-88fd-fdaf9c09968a button').textContent = titles[index];\n",
              "        e.preventDefault();\n",
              "        e.stopPropagation();\n",
              "      }\n",
              "      })();\n",
              "    </script>"
            ]
          },
          "metadata": {},
          "execution_count": 11
        }
      ],
      "source": [
        "import cv2\n",
        "import numpy as np\n",
        "import copy\n",
        "\n",
        "def erosion(img, p_size,I_size):\n",
        "  I1 = copy.deepcopy(img)\n",
        "  for i in range(img.shape[0]):\n",
        "    for j in range(img.shape[1]):\n",
        "      if img[i][j] > 125:\n",
        "        img[i][j] = 255\n",
        "      else:\n",
        "        img[i][j] = 0\n",
        "  for i in range(img.shape[0] - (p_size[0] -1)):\n",
        "    for j in range(img.shape[1] - (p_size[1] -1)):\n",
        "      output = np.zeros(p_size)\n",
        "      for k in range(p_size[0]):\n",
        "        for l in range(p_size[1]):\n",
        "          output[k, l]  = img[i+k, j+l]\n",
        "      k = np.sum(output)\n",
        "      if k>0:\n",
        "        for k in range(p_size[0]):\n",
        "          for m in range(p_size[1]):\n",
        "            I1[i+k,j+m] = 255\n",
        "  cv2.imwrite('opening_AAA.png',I1)\n",
        "\n",
        "def dilation(img, p_size):\n",
        "  I1 = copy.deepcopy(img)\n",
        "  for i in range(img.shape[0]):\n",
        "    for j in range(img.shape[1]):\n",
        "      if img[i][j] > 125:\n",
        "        img[i][j] = 255\n",
        "      else:\n",
        "        img[i][j] = 0\n",
        "  for i in range(img.shape[0] - (p_size[0] -1)):\n",
        "    for j in range(img.shape[1] - (p_size[1] -1)):\n",
        "      output = np.zeros(p_size)\n",
        "      for k in range(p_size[0]):\n",
        "        for l in range(p_size[1]):\n",
        "          output[k, l]  = I1[i+k, j+l]\n",
        "      k = np.sum(output)\n",
        "      if k < (p_size[0]*p_size[1]*255):\n",
        "        for k in range(p_size[0]):\n",
        "          for m in range(p_size[1]):\n",
        "            I1[i+k,j+m] = 0\n",
        "  return I1\n",
        "\n",
        "img = cv2.imread('/content/A_closing (1).png', 0)\n",
        "I_size = img.shape\n",
        "p_size =[3,3]\n",
        "I1 = erosion(img, p_size,I_size)\n",
        "dilation(img, p_size)"
      ]
    },
    {
      "cell_type": "code",
      "source": [],
      "metadata": {
        "id": "uyuMa8gMxIOQ"
      },
      "execution_count": null,
      "outputs": []
    }
  ]
}