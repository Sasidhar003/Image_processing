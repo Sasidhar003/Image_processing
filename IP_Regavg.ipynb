{
  "nbformat": 4,
  "nbformat_minor": 0,
  "metadata": {
    "colab": {
      "provenance": [],
      "mount_file_id": "1qqnPOsF7Z_a5EvxIsJ4aL4MPBbL1Z-EM",
      "authorship_tag": "ABX9TyN9DilIcQsKzxV5JrY6kVhO",
      "include_colab_link": true
    },
    "kernelspec": {
      "name": "python3",
      "display_name": "Python 3"
    },
    "language_info": {
      "name": "python"
    }
  },
  "cells": [
    {
      "cell_type": "markdown",
      "metadata": {
        "id": "view-in-github",
        "colab_type": "text"
      },
      "source": [
        "<a href=\"https://colab.research.google.com/github/Sasidhar003/Python/blob/main/IP_Regavg.ipynb\" target=\"_parent\"><img src=\"https://colab.research.google.com/assets/colab-badge.svg\" alt=\"Open In Colab\"/></a>"
      ]
    },
    {
      "cell_type": "code",
      "execution_count": null,
      "metadata": {
        "id": "EUq3d3oc5enQ"
      },
      "outputs": [],
      "source": [
        "import cv2\n",
        "import numpy as np\n",
        "\n",
        "p_size = ([3,3])\n",
        "\n",
        "def regavg(I, I_size):\n",
        "  I1 = np.zeros((I_size[0] - p_size[0]+1, I_size[1] - p_size[1]+1))\n",
        "  for i in range(I.shape[0]-(p_size[0]-1)):\n",
        "    for j in range(I.shape[1]-(p_size[1]-1)):\n",
        "      output = np.zeros(p_size)\n",
        "      for k in range(p_size[0]):\n",
        "        for l in range(p_size[1]):\n",
        "          output[k,l] = I[i+k,j+l]\n",
        "        temp = np.sum(output)\n",
        "        temp = temp/9\n",
        "        I1[i][j] = temp\n",
        "  cv2.imwrite(\"sasi.png\",I1)\n",
        "\n",
        "\n",
        "\n",
        "\n",
        "I = cv2.imread('//sasi-1.jpg', 0)\n",
        "I_size = I.shape\n",
        "regavg(I, I_size)\n"
      ]
    }
  ]
}