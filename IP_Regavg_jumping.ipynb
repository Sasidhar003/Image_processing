{
  "nbformat": 4,
  "nbformat_minor": 0,
  "metadata": {
    "colab": {
      "provenance": [],
      "authorship_tag": "ABX9TyNka4ZyYkmvtPaZwcqmyTju",
      "include_colab_link": true
    },
    "kernelspec": {
      "name": "python3",
      "display_name": "Python 3"
    },
    "language_info": {
      "name": "python"
    }
  },
  "cells": [
    {
      "cell_type": "markdown",
      "metadata": {
        "id": "view-in-github",
        "colab_type": "text"
      },
      "source": [
        "<a href=\"https://colab.research.google.com/github/Sasidhar003/Python/blob/main/IP_Regavg_jumping.ipynb\" target=\"_parent\"><img src=\"https://colab.research.google.com/assets/colab-badge.svg\" alt=\"Open In Colab\"/></a>"
      ]
    },
    {
      "cell_type": "code",
      "execution_count": 5,
      "metadata": {
        "id": "4iQ7kovejMen",
        "colab": {
          "base_uri": "https://localhost:8080/"
        },
        "outputId": "b784e19f-c978-4b1b-c893-748d9b530eb1"
      },
      "outputs": [
        {
          "output_type": "stream",
          "name": "stdout",
          "text": [
            "(185, 273)\n",
            "(61, 91)\n"
          ]
        }
      ],
      "source": [
        "import cv2\n",
        "import numpy as np\n",
        "\n",
        "def averaging(I,patch):\n",
        "  limit_x = int(I.shape[0]//patch[0])\n",
        "  limit_y = int(I.shape[1]//patch[1])\n",
        "  temp = np.zeros(patch)\n",
        "  result = np.zeros([limit_x,limit_y])\n",
        "  for i in range(limit_x):\n",
        "    for j in range(limit_y):\n",
        "      for k in range(patch[0]):\n",
        "        for l in range(patch[1]):\n",
        "          temp[k,l] = I[k+(i*patch[0]), l+(j*patch[1])]\n",
        "      output = np.sum(temp)\n",
        "      output = output/9\n",
        "      result[i,j] = output\n",
        "  result = np.uint8(result)\n",
        "  return result\n",
        "\n",
        "\n",
        "\n",
        "if __name__ =='__main__':\n",
        "  I=cv2.imread('/content/eyee (1).png',0)\n",
        "  I_size =I.shape\n",
        "  print(I.shape)\n",
        "  I=-np.array(I)\n",
        "  patch = ([3,3])\n",
        "  I1 = averaging(I, patch)\n",
        "  cv2.imwrite('/content/eyeeeee.png', I1)\n",
        "  print(I1.shape)\n",
        "\n"
      ]
    }
  ]
}