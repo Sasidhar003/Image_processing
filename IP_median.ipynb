{
  "nbformat": 4,
  "nbformat_minor": 0,
  "metadata": {
    "colab": {
      "provenance": [],
      "authorship_tag": "ABX9TyOkguPaHbxI/Iz17d+gWRJ6",
      "include_colab_link": true
    },
    "kernelspec": {
      "name": "python3",
      "display_name": "Python 3"
    },
    "language_info": {
      "name": "python"
    }
  },
  "cells": [
    {
      "cell_type": "markdown",
      "metadata": {
        "id": "view-in-github",
        "colab_type": "text"
      },
      "source": [
        "<a href=\"https://colab.research.google.com/github/Sasidhar003/Python/blob/main/IP_median.ipynb\" target=\"_parent\"><img src=\"https://colab.research.google.com/assets/colab-badge.svg\" alt=\"Open In Colab\"/></a>"
      ]
    },
    {
      "cell_type": "code",
      "execution_count": 2,
      "metadata": {
        "id": "oe9JPYi8cfQa"
      },
      "outputs": [],
      "source": [
        "import cv2\n",
        "import numpy as np\n",
        "\n",
        "p_size = ([3,3])\n",
        "def medianavg(I,I_size):\n",
        "  I1 = np.zeros((I_size[0] - p_size[0]+1, I_size[1] - p_size[1]+1))\n",
        "  for i in range(I.shape[0]-(p_size[0]-1)):\n",
        "    for j in range(I.shape[1]-(p_size[1]-1)):\n",
        "      output = np.zeros(p_size)\n",
        "      for k in range(p_size[0]):\n",
        "        for l in range(p_size[1]):\n",
        "          output[k,l] = I[i+k,j+l]\n",
        "        temp = np.median(output)\n",
        "        I1[i][j] = temp\n",
        "  cv2.imwrite('median_eye.png',I1)\n",
        "\n",
        "I=cv2.imread(\"/content/eyee.png\",0)\n",
        "I_size = I.shape\n",
        "medianavg(I,I_size)"
      ]
    }
  ]
}