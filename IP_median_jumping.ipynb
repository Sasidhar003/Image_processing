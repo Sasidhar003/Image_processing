{
  "nbformat": 4,
  "nbformat_minor": 0,
  "metadata": {
    "colab": {
      "provenance": [],
      "authorship_tag": "ABX9TyNb1PTBZlIbCPmXJJzQAnAZ",
      "include_colab_link": true
    },
    "kernelspec": {
      "name": "python3",
      "display_name": "Python 3"
    },
    "language_info": {
      "name": "python"
    }
  },
  "cells": [
    {
      "cell_type": "markdown",
      "metadata": {
        "id": "view-in-github",
        "colab_type": "text"
      },
      "source": [
        "<a href=\"https://colab.research.google.com/github/Sasidhar003/Python/blob/main/IP_median_jumping.ipynb\" target=\"_parent\"><img src=\"https://colab.research.google.com/assets/colab-badge.svg\" alt=\"Open In Colab\"/></a>"
      ]
    },
    {
      "cell_type": "code",
      "execution_count": 2,
      "metadata": {
        "colab": {
          "base_uri": "https://localhost:8080/"
        },
        "id": "x64wqRG5zOo_",
        "outputId": "b1871823-7574-4114-e5ea-66ea71972837"
      },
      "outputs": [
        {
          "output_type": "stream",
          "name": "stdout",
          "text": [
            "(185, 273)\n",
            "(61, 91)\n"
          ]
        }
      ],
      "source": [
        "import cv2\n",
        "import numpy as np\n",
        "\n",
        "patch = ([3,3])\n",
        "\n",
        "def median_jumping(I, I_size):\n",
        "  limit_x = int(I.shape[0]//patch[0])\n",
        "  limit_y = int(I.shape[1]//patch[1])\n",
        "  temp = np.zeros(patch)\n",
        "  I1 = np.zeros([limit_x, limit_y])\n",
        "  for i in range(limit_x):\n",
        "    for j in range(limit_y):\n",
        "      for k in range(patch[0]):\n",
        "        for l in range(patch[1]):\n",
        "          temp[k,l] = I[k+(i*patch[0]), l+(j*patch[1])]\n",
        "      output = np.median(temp)\n",
        "  I1[i, j] = output\n",
        "  cv2.imwrite('/content/sample_data/eyeeee.png', I1)\n",
        "  print(I1.shape)\n",
        "\n",
        "\n",
        "\n",
        "I=cv2.imread('/content/sample_data/eyee (1).png', 0)\n",
        "I_size = I.shape\n",
        "print(I.shape)\n",
        "median_jumping(I, I_size)"
      ]
    }
  ]
}