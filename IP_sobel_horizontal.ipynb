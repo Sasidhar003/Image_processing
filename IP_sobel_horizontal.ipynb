{
  "nbformat": 4,
  "nbformat_minor": 0,
  "metadata": {
    "colab": {
      "provenance": [],
      "authorship_tag": "ABX9TyN9uoBf4RObF19SkAWsUtXT",
      "include_colab_link": true
    },
    "kernelspec": {
      "name": "python3",
      "display_name": "Python 3"
    },
    "language_info": {
      "name": "python"
    }
  },
  "cells": [
    {
      "cell_type": "markdown",
      "metadata": {
        "id": "view-in-github",
        "colab_type": "text"
      },
      "source": [
        "<a href=\"https://colab.research.google.com/github/Sasidhar003/Python/blob/main/IP_sobel_horizontal.ipynb\" target=\"_parent\"><img src=\"https://colab.research.google.com/assets/colab-badge.svg\" alt=\"Open In Colab\"/></a>"
      ]
    },
    {
      "cell_type": "code",
      "execution_count": null,
      "metadata": {
        "id": "lJBGEuxlLumf"
      },
      "outputs": [],
      "source": [
        "import cv2\n",
        "import numpy as np\n",
        "\n",
        "def sobel(I, I_size, kernel, k_size):\n",
        "  I1 = np.zeros((I.shape[0] - k_size[0]+1, I.shape[1] - k_size[1]+1))\n",
        "  for i in range(I.shape[0] - (k_size[0]-1)):\n",
        "    for j in range(I.shape[1] - (k_size[1]-1)):\n",
        "      output = np.zeros(k_size)\n",
        "      for k in range(k_size[0]):\n",
        "        for l in range(k_size[1]):\n",
        "          output[k,l] = I[i+k, j+l]\n",
        "      temp = np.sum(output*kernel)\n",
        "      temp = temp/8\n",
        "      I1[i,j] = temp\n",
        "  cv2.imwrite('/content/cameramann.png', I1)\n",
        "\n",
        "\n",
        "I = cv2.imread('/content/cameraman.png', 0)\n",
        "I_size = I.shape\n",
        "kernel = [[1,0,-1],[2,0,-2],[1,0,-1]]\n",
        "kernel = np.array(kernel)\n",
        "k_size = kernel.shape\n",
        "sobel(I, I_size, kernel, k_size)"
      ]
    }
  ]
}